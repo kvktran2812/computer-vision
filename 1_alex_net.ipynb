{
 "cells": [
  {
   "cell_type": "code",
   "execution_count": 1,
   "id": "0f8ba720-219e-4153-8a37-e4a21e4308cb",
   "metadata": {},
   "outputs": [],
   "source": [
    "import torch\n",
    "import torch.nn as nn\n",
    "import torch.optim as optim\n",
    "import torch.nn.functional as F\n",
    "from torchvision import datasets, transforms\n",
    "from torch.utils.data import DataLoader"
   ]
  },
  {
   "cell_type": "code",
   "execution_count": 27,
   "id": "12460e82-365a-461b-b2ea-430613c4b945",
   "metadata": {},
   "outputs": [],
   "source": [
    "from scripts.cv_utils import *"
   ]
  },
  {
   "cell_type": "code",
   "execution_count": 35,
   "id": "da598135-4238-46b0-a958-3c266e3018da",
   "metadata": {},
   "outputs": [],
   "source": [
    "class AlexNet_CIFAR10(nn.Module):\n",
    "    def __init__(self, num_classes=10, dropout=0.2):\n",
    "        super(AlexNet_CIFAR10, self).__init__()\n",
    "        self.relu = nn.ReLU(inplace=True)\n",
    "        self.features = nn.Sequential(\n",
    "            nn.Conv2d(3, 64, kernel_size=1),\n",
    "            nn.BatchNorm2d(64),\n",
    "            self.relu,\n",
    "            nn.Conv2d(64, 64, kernel_size=3, padding=2),\n",
    "            nn.BatchNorm2d(64),\n",
    "            self.relu,\n",
    "            nn.MaxPool2d(kernel_size=3, stride=2),\n",
    "            nn.Conv2d(64, 192, kernel_size=5, padding=2),\n",
    "            nn.BatchNorm2d(192),\n",
    "            self.relu,\n",
    "            nn.MaxPool2d(kernel_size=3, stride=2),\n",
    "            nn.Conv2d(192, 256, kernel_size=3, padding=1),\n",
    "            nn.BatchNorm2d(256),\n",
    "            self.relu,\n",
    "        )\n",
    "        # self.avgpool = nn.AdaptiveAvgPool2d((7, 7))\n",
    "        self.classifier = nn.Sequential(\n",
    "            nn.Dropout(dropout),\n",
    "            nn.Linear(12544, num_classes),\n",
    "        )\n",
    "\n",
    "    def forward(self, x):\n",
    "        x = self.features(x)\n",
    "        x = torch.flatten(x, 1)\n",
    "        x = self.classifier(x)\n",
    "        return x"
   ]
  },
  {
   "cell_type": "code",
   "execution_count": 36,
   "id": "da686900-6d2e-4c4e-888d-2aefce16858e",
   "metadata": {},
   "outputs": [
    {
     "name": "stdout",
     "output_type": "stream",
     "text": [
      "Try out model:\n",
      "torch.Size([64, 10])\n",
      "Total number of parameters: 0.9138M\n"
     ]
    }
   ],
   "source": [
    "# Test if model works\n",
    "print(\"Try out model:\")\n",
    "x = torch.randn(64, 3, 32, 32)\n",
    "model = AlexNet_CIFAR10(10)\n",
    "x = model(x)\n",
    "print(x.shape)\n",
    "\n",
    "# Total parameters\n",
    "total_params = model_parameters(model)\n",
    "# print(\"Total parameters:\", total_params)"
   ]
  },
  {
   "cell_type": "code",
   "execution_count": 30,
   "id": "e6742501-ea2b-4c99-8839-83c5aecc7816",
   "metadata": {},
   "outputs": [
    {
     "name": "stdout",
     "output_type": "stream",
     "text": [
      "Downloading https://www.cs.toronto.edu/~kriz/cifar-10-python.tar.gz to ./cifar-10\\cifar-10-python.tar.gz\n"
     ]
    },
    {
     "name": "stderr",
     "output_type": "stream",
     "text": [
      "100%|██████████████████████████████████████████████████████████████| 170498071/170498071 [00:02<00:00, 68732160.64it/s]\n"
     ]
    },
    {
     "name": "stdout",
     "output_type": "stream",
     "text": [
      "Extracting ./cifar-10\\cifar-10-python.tar.gz to ./cifar-10\n",
      "Files already downloaded and verified\n"
     ]
    }
   ],
   "source": [
    "transform = cifar_transform()\n",
    "train_loader, test_loader = download_cifar10(transform)"
   ]
  },
  {
   "cell_type": "code",
   "execution_count": 37,
   "id": "3a82f539-566b-41f2-b35a-409b9ac73670",
   "metadata": {},
   "outputs": [
    {
     "name": "stdout",
     "output_type": "stream",
     "text": [
      "Current device for training: cuda\n",
      "####################\n"
     ]
    }
   ],
   "source": [
    "device = torch.device(\"cuda\" if torch.cuda.is_available() else \"cpu\")\n",
    "print(f\"Current device for training:\", device)\n",
    "print(\"#\" * 20)\n",
    "\n",
    "criterion = nn.CrossEntropyLoss()\n",
    "optimizer = torch.optim.Adam(model.parameters(), lr=0.001)"
   ]
  },
  {
   "cell_type": "code",
   "execution_count": 38,
   "id": "a7f11020-002c-43aa-8247-52f6fd983745",
   "metadata": {},
   "outputs": [
    {
     "name": "stdout",
     "output_type": "stream",
     "text": [
      "Training model on device:  cuda\n",
      "Epoch 1/10: Train Loss: 1.3514 - Val Loss: 1.0233\n",
      "    Train Acc: 53.38% - Val Acc: 62.50%\n",
      "####################\n",
      "Saving model checkpoint to models/alex_net/checkpoint_0.0.pth\n",
      "Epoch 2/10: Train Loss: 0.8826 - Val Loss: 0.9267\n",
      "    Train Acc: 69.23% - Val Acc: 75.00%\n",
      "####################\n",
      "Saving model checkpoint to models/alex_net/checkpoint_1.0.pth\n",
      "Epoch 3/10: Train Loss: 0.7053 - Val Loss: 0.8643\n",
      "    Train Acc: 75.56% - Val Acc: 68.75%\n",
      "####################\n",
      "Saving model checkpoint to models/alex_net/checkpoint_2.0.pth\n",
      "Epoch 4/10: Train Loss: 0.5885 - Val Loss: 0.7162\n",
      "    Train Acc: 79.76% - Val Acc: 87.50%\n",
      "####################\n",
      "Saving model checkpoint to models/alex_net/checkpoint_3.0.pth\n",
      "Epoch 5/10: Train Loss: 0.4908 - Val Loss: 0.6713\n",
      "    Train Acc: 83.10% - Val Acc: 81.25%\n",
      "####################\n",
      "Saving model checkpoint to models/alex_net/checkpoint_4.0.pth\n",
      "Epoch 6/10: Train Loss: 0.4142 - Val Loss: 0.7354\n",
      "    Train Acc: 85.71% - Val Acc: 75.00%\n",
      "####################\n",
      "Saving model checkpoint to models/alex_net/checkpoint_5.0.pth\n",
      "Epoch 7/10: Train Loss: 0.3380 - Val Loss: 0.7410\n",
      "    Train Acc: 88.01% - Val Acc: 81.25%\n",
      "####################\n",
      "Saving model checkpoint to models/alex_net/checkpoint_6.0.pth\n",
      "Epoch 8/10: Train Loss: 0.2701 - Val Loss: 0.6613\n",
      "    Train Acc: 90.48% - Val Acc: 81.25%\n",
      "####################\n",
      "Saving model checkpoint to models/alex_net/checkpoint_7.0.pth\n",
      "Epoch 9/10: Train Loss: 0.2138 - Val Loss: 0.6416\n",
      "    Train Acc: 92.41% - Val Acc: 93.75%\n",
      "####################\n",
      "Saving model checkpoint to models/alex_net/checkpoint_8.0.pth\n",
      "Epoch 10/10: Train Loss: 0.1748 - Val Loss: 0.8170\n",
      "    Train Acc: 93.84% - Val Acc: 87.50%\n",
      "####################\n",
      "Saving model checkpoint to models/alex_net/checkpoint_9.0.pth\n"
     ]
    }
   ],
   "source": [
    "epoch_loss_history, batch_loss_history = train(model, train_loader, test_loader, optimizer, criterion, device, model_name=\"alex_net\")"
   ]
  },
  {
   "cell_type": "code",
   "execution_count": null,
   "id": "349fb457-47ac-49a1-888b-e5468d944d90",
   "metadata": {},
   "outputs": [],
   "source": []
  }
 ],
 "metadata": {
  "kernelspec": {
   "display_name": "Python 3 (ipykernel)",
   "language": "python",
   "name": "python3"
  },
  "language_info": {
   "codemirror_mode": {
    "name": "ipython",
    "version": 3
   },
   "file_extension": ".py",
   "mimetype": "text/x-python",
   "name": "python",
   "nbconvert_exporter": "python",
   "pygments_lexer": "ipython3",
   "version": "3.11.7"
  }
 },
 "nbformat": 4,
 "nbformat_minor": 5
}
