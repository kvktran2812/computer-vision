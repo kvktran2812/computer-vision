{
 "cells": [
  {
   "cell_type": "code",
   "execution_count": 3,
   "id": "0f8ba720-219e-4153-8a37-e4a21e4308cb",
   "metadata": {},
   "outputs": [],
   "source": [
    "import torch\n",
    "import torch.nn as nn\n",
    "import torch.optim as optim\n",
    "import torch.nn.functional as F\n",
    "from torchvision import datasets, transforms\n",
    "from torch.utils.data import DataLoader"
   ]
  },
  {
   "cell_type": "code",
   "execution_count": 5,
   "id": "da598135-4238-46b0-a958-3c266e3018da",
   "metadata": {},
   "outputs": [],
   "source": [
    "class AlexNet(nn.Module):\n",
    "    def __init__(self, num_classes=1000):\n",
    "        super(AlexNet, self).__init__()\n",
    "        self.features = nn.Sequential(\n",
    "            nn.Conv2d(3, 64, kernel_size=11, stride=4, padding=2),\n",
    "            nn.ReLU(inplace=True),\n",
    "            nn.MaxPool2d(kernel_size=3, stride=2),\n",
    "            nn.Conv2d(64, 192, kernel_size=5, padding=2),\n",
    "            nn.ReLU(inplace=True),\n",
    "            nn.MaxPool2d(kernel_size=3, stride=2),\n",
    "            nn.Conv2d(192, 384, kernel_size=3, padding=1),\n",
    "            nn.ReLU(inplace=True),\n",
    "            nn.Conv2d(384, 256, kernel_size=3, padding=1),\n",
    "            nn.ReLU(inplace=True),\n",
    "            nn.Conv2d(256, 256, kernel_size=3, padding=1),\n",
    "            nn.ReLU(inplace=True),\n",
    "            nn.MaxPool2d(kernel_size=3, stride=2),\n",
    "        )\n",
    "        self.classifier = nn.Sequential(\n",
    "            nn.Dropout(),\n",
    "            nn.Linear(256 * 6 * 6, 4096),\n",
    "            nn.ReLU(inplace=True),\n",
    "            nn.Dropout(),\n",
    "            nn.Linear(4096, 4096),\n",
    "            nn.ReLU(inplace=True),\n",
    "            nn.Linear(4096, num_classes),\n",
    "        )\n",
    "\n",
    "    def forward(self, x):\n",
    "        x = self.features(x)\n",
    "        x = torch.flatten(x, 1)\n",
    "        x = self.classifier(x)\n",
    "        return x"
   ]
  },
  {
   "cell_type": "code",
   "execution_count": 6,
   "id": "92b6d433-efeb-4ecb-a0e1-5fa93be0073f",
   "metadata": {},
   "outputs": [
    {
     "name": "stdout",
     "output_type": "stream",
     "text": [
      "Downloading https://www.cs.toronto.edu/~kriz/cifar-10-python.tar.gz to ./data\\cifar-10-python.tar.gz\n"
     ]
    },
    {
     "name": "stderr",
     "output_type": "stream",
     "text": [
      "100%|██████████████████████████████████████████████████████████████| 170498071/170498071 [00:02<00:00, 64363248.15it/s]\n"
     ]
    },
    {
     "name": "stdout",
     "output_type": "stream",
     "text": [
      "Extracting ./data\\cifar-10-python.tar.gz to ./data\n",
      "Files already downloaded and verified\n"
     ]
    }
   ],
   "source": [
    "transform = transforms.Compose([\n",
    "    transforms.Resize(256),\n",
    "    transforms.CenterCrop(224),\n",
    "    transforms.ToTensor(),\n",
    "    transforms.Normalize(mean=[0.485, 0.456, 0.406], std=[0.229, 0.224, 0.225]),\n",
    "])\n",
    "\n",
    "train_dataset = datasets.CIFAR10(root='./data', train=True, download=True, transform=transform)\n",
    "train_loader = DataLoader(train_dataset, batch_size=128, shuffle=True)\n",
    "\n",
    "test_dataset = datasets.CIFAR10(root='./data', train=False, download=True, transform=transform)\n",
    "test_loader = DataLoader(test_dataset, batch_size=128, shuffle=False)"
   ]
  },
  {
   "cell_type": "code",
   "execution_count": 7,
   "id": "84f6b5a7-2dbb-4b54-8cc8-defcfde7a419",
   "metadata": {},
   "outputs": [],
   "source": [
    "device = torch.device(\"cuda\" if torch.cuda.is_available() else \"cpu\")\n",
    "model = AlexNet(num_classes=10).to(device)\n",
    "\n",
    "criterion = nn.CrossEntropyLoss()\n",
    "optimizer = optim.Adam(model.parameters(), lr=0.001)"
   ]
  },
  {
   "cell_type": "code",
   "execution_count": 8,
   "id": "e9bd5d7d-542d-4774-9647-0b018baf43e0",
   "metadata": {},
   "outputs": [
    {
     "name": "stdout",
     "output_type": "stream",
     "text": [
      "Train Epoch: 1 [0/50000 (0%)]\tLoss: 2.301335\n",
      "Train Epoch: 1 [12800/50000 (26%)]\tLoss: 2.134032\n",
      "Train Epoch: 1 [25600/50000 (51%)]\tLoss: 1.773867\n",
      "Train Epoch: 1 [38400/50000 (77%)]\tLoss: 1.718294\n",
      "Train Epoch: 2 [0/50000 (0%)]\tLoss: 1.540834\n",
      "Train Epoch: 2 [12800/50000 (26%)]\tLoss: 1.474840\n",
      "Train Epoch: 2 [25600/50000 (51%)]\tLoss: 1.355178\n",
      "Train Epoch: 2 [38400/50000 (77%)]\tLoss: 1.380234\n",
      "Train Epoch: 3 [0/50000 (0%)]\tLoss: 1.189013\n",
      "Train Epoch: 3 [12800/50000 (26%)]\tLoss: 1.243093\n",
      "Train Epoch: 3 [25600/50000 (51%)]\tLoss: 1.431549\n",
      "Train Epoch: 3 [38400/50000 (77%)]\tLoss: 1.079669\n",
      "Train Epoch: 4 [0/50000 (0%)]\tLoss: 1.385357\n",
      "Train Epoch: 4 [12800/50000 (26%)]\tLoss: 1.332109\n",
      "Train Epoch: 4 [25600/50000 (51%)]\tLoss: 1.236777\n",
      "Train Epoch: 4 [38400/50000 (77%)]\tLoss: 0.969942\n",
      "Train Epoch: 5 [0/50000 (0%)]\tLoss: 1.193686\n",
      "Train Epoch: 5 [12800/50000 (26%)]\tLoss: 1.029075\n",
      "Train Epoch: 5 [25600/50000 (51%)]\tLoss: 0.967587\n",
      "Train Epoch: 5 [38400/50000 (77%)]\tLoss: 1.052698\n",
      "Train Epoch: 6 [0/50000 (0%)]\tLoss: 0.999500\n",
      "Train Epoch: 6 [12800/50000 (26%)]\tLoss: 0.785676\n",
      "Train Epoch: 6 [25600/50000 (51%)]\tLoss: 0.854739\n",
      "Train Epoch: 6 [38400/50000 (77%)]\tLoss: 1.056607\n",
      "Train Epoch: 7 [0/50000 (0%)]\tLoss: 0.945864\n",
      "Train Epoch: 7 [12800/50000 (26%)]\tLoss: 0.828416\n",
      "Train Epoch: 7 [25600/50000 (51%)]\tLoss: 0.804783\n",
      "Train Epoch: 7 [38400/50000 (77%)]\tLoss: 1.053860\n",
      "Train Epoch: 8 [0/50000 (0%)]\tLoss: 0.898236\n",
      "Train Epoch: 8 [12800/50000 (26%)]\tLoss: 0.794941\n",
      "Train Epoch: 8 [25600/50000 (51%)]\tLoss: 0.830928\n",
      "Train Epoch: 8 [38400/50000 (77%)]\tLoss: 0.883302\n",
      "Train Epoch: 9 [0/50000 (0%)]\tLoss: 0.852397\n",
      "Train Epoch: 9 [12800/50000 (26%)]\tLoss: 0.652840\n",
      "Train Epoch: 9 [25600/50000 (51%)]\tLoss: 0.924942\n",
      "Train Epoch: 9 [38400/50000 (77%)]\tLoss: 0.988587\n",
      "Train Epoch: 10 [0/50000 (0%)]\tLoss: 0.626815\n",
      "Train Epoch: 10 [12800/50000 (26%)]\tLoss: 0.622436\n",
      "Train Epoch: 10 [25600/50000 (51%)]\tLoss: 0.658731\n",
      "Train Epoch: 10 [38400/50000 (77%)]\tLoss: 0.648682\n"
     ]
    }
   ],
   "source": [
    "def train(model, device, train_loader, optimizer, criterion, epoch):\n",
    "    model.train()\n",
    "    for batch_idx, (data, target) in enumerate(train_loader):\n",
    "        data, target = data.to(device), target.to(device)\n",
    "        optimizer.zero_grad()\n",
    "        output = model(data)\n",
    "        loss = criterion(output, target)\n",
    "        loss.backward()\n",
    "        optimizer.step()\n",
    "        \n",
    "        if batch_idx % 100 == 0:\n",
    "            print(f'Train Epoch: {epoch} [{batch_idx * len(data)}/{len(train_loader.dataset)} ({100. * batch_idx / len(train_loader):.0f}%)]\\tLoss: {loss.item():.6f}')\n",
    "\n",
    "for epoch in range(1, 11):\n",
    "    train(model, device, train_loader, optimizer, criterion, epoch)"
   ]
  },
  {
   "cell_type": "code",
   "execution_count": 9,
   "id": "3fd2d247-55a4-4e34-bcd6-a5ee0d671004",
   "metadata": {},
   "outputs": [
    {
     "name": "stdout",
     "output_type": "stream",
     "text": [
      "\n",
      "Test set: Average loss: 0.0069, Accuracy: 7042/10000 (70%)\n",
      "\n"
     ]
    }
   ],
   "source": [
    "def test(model, device, test_loader, criterion):\n",
    "    model.eval()\n",
    "    test_loss = 0\n",
    "    correct = 0\n",
    "    with torch.no_grad():\n",
    "        for data, target in test_loader:\n",
    "            data, target = data.to(device), target.to(device)\n",
    "            output = model(data)\n",
    "            test_loss += criterion(output, target).item()\n",
    "            pred = output.argmax(dim=1, keepdim=True)\n",
    "            correct += pred.eq(target.view_as(pred)).sum().item()\n",
    "\n",
    "    test_loss /= len(test_loader.dataset)\n",
    "    print(f'\\nTest set: Average loss: {test_loss:.4f}, Accuracy: {correct}/{len(test_loader.dataset)} ({100. * correct / len(test_loader.dataset):.0f}%)\\n')\n",
    "\n",
    "test(model, device, test_loader, criterion)"
   ]
  },
  {
   "cell_type": "code",
   "execution_count": 10,
   "id": "204e3e4d-a59b-49c7-9cc6-7d270e751d6c",
   "metadata": {},
   "outputs": [
    {
     "data": {
      "text/plain": [
       "AlexNet(\n",
       "  (features): Sequential(\n",
       "    (0): Conv2d(3, 64, kernel_size=(11, 11), stride=(4, 4), padding=(2, 2))\n",
       "    (1): ReLU(inplace=True)\n",
       "    (2): MaxPool2d(kernel_size=3, stride=2, padding=0, dilation=1, ceil_mode=False)\n",
       "    (3): Conv2d(64, 192, kernel_size=(5, 5), stride=(1, 1), padding=(2, 2))\n",
       "    (4): ReLU(inplace=True)\n",
       "    (5): MaxPool2d(kernel_size=3, stride=2, padding=0, dilation=1, ceil_mode=False)\n",
       "    (6): Conv2d(192, 384, kernel_size=(3, 3), stride=(1, 1), padding=(1, 1))\n",
       "    (7): ReLU(inplace=True)\n",
       "    (8): Conv2d(384, 256, kernel_size=(3, 3), stride=(1, 1), padding=(1, 1))\n",
       "    (9): ReLU(inplace=True)\n",
       "    (10): Conv2d(256, 256, kernel_size=(3, 3), stride=(1, 1), padding=(1, 1))\n",
       "    (11): ReLU(inplace=True)\n",
       "    (12): MaxPool2d(kernel_size=3, stride=2, padding=0, dilation=1, ceil_mode=False)\n",
       "  )\n",
       "  (classifier): Sequential(\n",
       "    (0): Dropout(p=0.5, inplace=False)\n",
       "    (1): Linear(in_features=9216, out_features=4096, bias=True)\n",
       "    (2): ReLU(inplace=True)\n",
       "    (3): Dropout(p=0.5, inplace=False)\n",
       "    (4): Linear(in_features=4096, out_features=4096, bias=True)\n",
       "    (5): ReLU(inplace=True)\n",
       "    (6): Linear(in_features=4096, out_features=10, bias=True)\n",
       "  )\n",
       ")"
      ]
     },
     "execution_count": 10,
     "metadata": {},
     "output_type": "execute_result"
    }
   ],
   "source": [
    "torch.save(model.state_dict(), \"alexnet_cifar10.pth\")\n",
    "model = AlexNet(num_classes=10).to(device)\n",
    "model.load_state_dict(torch.load(\"alexnet_cifar10.pth\"))\n",
    "model.eval()"
   ]
  },
  {
   "cell_type": "code",
   "execution_count": null,
   "id": "da686900-6d2e-4c4e-888d-2aefce16858e",
   "metadata": {},
   "outputs": [],
   "source": []
  }
 ],
 "metadata": {
  "kernelspec": {
   "display_name": "Python 3 (ipykernel)",
   "language": "python",
   "name": "python3"
  },
  "language_info": {
   "codemirror_mode": {
    "name": "ipython",
    "version": 3
   },
   "file_extension": ".py",
   "mimetype": "text/x-python",
   "name": "python",
   "nbconvert_exporter": "python",
   "pygments_lexer": "ipython3",
   "version": "3.11.7"
  }
 },
 "nbformat": 4,
 "nbformat_minor": 5
}
