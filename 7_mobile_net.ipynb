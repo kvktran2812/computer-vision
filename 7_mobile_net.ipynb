{
 "cells": [
  {
   "cell_type": "code",
   "execution_count": 1,
   "id": "cdca3e89-4684-4851-9c58-59fb665d2c13",
   "metadata": {},
   "outputs": [],
   "source": [
    "import torch\n",
    "import torch.nn as nn\n",
    "import torch.optim as optim\n",
    "import torch.nn.functional as F\n",
    "from torchvision import datasets, transforms\n",
    "from torch.utils.data import DataLoader\n",
    "import torchvision.transforms as transforms\n",
    "from torchvision.datasets import ImageFolder\n",
    "from torch.utils.data import DataLoader"
   ]
  },
  {
   "cell_type": "code",
   "execution_count": 2,
   "id": "90358adf-163c-4d28-8b19-08e29ac35f0a",
   "metadata": {},
   "outputs": [],
   "source": [
    "from scripts.cv_utils import *"
   ]
  },
  {
   "cell_type": "code",
   "execution_count": 3,
   "id": "a5bca1a4-7b5e-47b4-8bd3-6219c7ee5b63",
   "metadata": {},
   "outputs": [],
   "source": [
    "class DepthwiseConv(nn.Module):\n",
    "    def __init__(self, in_channels, out_channels, kernel_size=3, **kwargs):\n",
    "        super(DepthwiseConv, self).__init__()\n",
    "        self.relu = nn.ReLU6(inplace=True)\n",
    "\n",
    "        # Depthwise\n",
    "        self.conv1 = nn.Conv2d(in_channels, in_channels, kernel_size, **kwargs)\n",
    "        self.bn1 = nn.BatchNorm2d(in_channels)\n",
    "\n",
    "        # Pointwise\n",
    "        self.conv2 = nn.Conv2d(in_channels, out_channels, 1)\n",
    "        self.bn2 = nn.BatchNorm2d(out_channels)\n",
    "\n",
    "    def forward(self, x):\n",
    "        x = self.conv1(x)\n",
    "        x = self.bn1(x)\n",
    "        x = self.relu(x)\n",
    "        x = self.conv2(x)\n",
    "        x = self.bn2(x)\n",
    "        x = self.relu(x)\n",
    "        return x\n",
    "\n",
    "class Conv2dBn(nn.Module):\n",
    "    def __init__(self, in_channels, out_channels, kernel_size=3, **kwargs):\n",
    "        super(Conv2dBn, self).__init__()\n",
    "        self.conv1 = nn.Conv2d(in_channels, out_channels, kernel_size, **kwargs)\n",
    "        self.bn1 = nn.BatchNorm2d(out_channels)\n",
    "        self.relu = nn.ReLU6()\n",
    "\n",
    "    def forward(self, x):\n",
    "        x = self.conv1(x)\n",
    "        x = self.bn1(x)\n",
    "        x = self.relu(x)\n",
    "        return x"
   ]
  },
  {
   "cell_type": "code",
   "execution_count": 5,
   "id": "023d54e9-1e03-4e5b-8fa4-3c7a61863df6",
   "metadata": {},
   "outputs": [
    {
     "name": "stdout",
     "output_type": "stream",
     "text": [
      "Total number of parameters: 0.0005M\n",
      "Total number of parameters: 0.0019M\n"
     ]
    },
    {
     "data": {
      "text/plain": [
       "1920"
      ]
     },
     "execution_count": 5,
     "metadata": {},
     "output_type": "execute_result"
    }
   ],
   "source": [
    "model1 = DepthwiseConv(3, 64)\n",
    "model2 = Conv2dBn(3, 64)\n",
    "\n",
    "model_parameters(model1)\n",
    "model_parameters(model2)"
   ]
  },
  {
   "cell_type": "code",
   "execution_count": 6,
   "id": "d0fc13d9-b652-4ab4-98cd-406027aecf3e",
   "metadata": {},
   "outputs": [],
   "source": [
    "class MobileNet(nn.Module):\n",
    "    def __init__(self, num_classes):\n",
    "        super(MobileNet, self).__init__()\n",
    "        self.relu = nn.ReLU6(inplace=True)\n",
    "        self.conv1 = Conv2dBn(3, 32, 3, stride=2, padding=1)\n",
    "        self.conv2 = DepthwiseConv(32, 64, 3, stride=1, padding=1)\n",
    "        self.conv3 = DepthwiseConv(64, 128, 3, stride=2, padding=1)\n",
    "        self.conv4 = DepthwiseConv(128, 128, 3, stride=1, padding=1)\n",
    "        self.conv5 = DepthwiseConv(128, 256, 3, stride=2, padding=1)\n",
    "        self.conv6 = DepthwiseConv(256, 256, 3, stride=1, padding=1)\n",
    "        self.conv7 = DepthwiseConv(256, 512, 3, stride=2, padding=1)\n",
    "        self.conv8 = nn.Sequential(*[DepthwiseConv(512, 512, 3, stride=1, padding=1) for _ in range(5)])\n",
    "        self.conv9 = DepthwiseConv(512, 1024, 3, stride=2, padding=1)\n",
    "        self.conv10 = DepthwiseConv(1024, 1024, 3, stride=1, padding=1)\n",
    "        self.avg_pool = nn.AvgPool2d((7,7))\n",
    "        self.fc = nn.Linear(1024, num_classes)\n",
    "    \n",
    "    def forward(self, x):\n",
    "        x = self.conv1(x)\n",
    "        x = self.conv2(x)\n",
    "        x = self.conv3(x)\n",
    "        x = self.conv4(x)\n",
    "        x = self.conv5(x)\n",
    "        x = self.conv6(x)\n",
    "        x = self.conv7(x)\n",
    "        x = self.conv8(x)\n",
    "        x = self.conv9(x)\n",
    "        x = self.conv10(x)\n",
    "        x = self.avg_pool(x)\n",
    "        x = torch.flatten(x, 1)\n",
    "        x = self.fc(x)\n",
    "        return x"
   ]
  },
  {
   "cell_type": "code",
   "execution_count": 7,
   "id": "54d7d5c9-e062-419a-b951-b0f00582b8ca",
   "metadata": {},
   "outputs": [
    {
     "name": "stdout",
     "output_type": "stream",
     "text": [
      "Total number of parameters: 29.3119M\n"
     ]
    },
    {
     "data": {
      "text/plain": [
       "29311880"
      ]
     },
     "execution_count": 7,
     "metadata": {},
     "output_type": "execute_result"
    }
   ],
   "source": [
    "model = MobileNet(1000)\n",
    "x = torch.randn(1, 3, 224, 224)\n",
    "model(x).shape\n",
    "\n",
    "model_parameters(model)"
   ]
  },
  {
   "cell_type": "code",
   "execution_count": null,
   "id": "14916d9f-d22f-4cfe-9464-0737486bf805",
   "metadata": {},
   "outputs": [],
   "source": []
  }
 ],
 "metadata": {
  "kernelspec": {
   "display_name": "Python 3 (ipykernel)",
   "language": "python",
   "name": "python3"
  },
  "language_info": {
   "codemirror_mode": {
    "name": "ipython",
    "version": 3
   },
   "file_extension": ".py",
   "mimetype": "text/x-python",
   "name": "python",
   "nbconvert_exporter": "python",
   "pygments_lexer": "ipython3",
   "version": "3.11.7"
  }
 },
 "nbformat": 4,
 "nbformat_minor": 5
}
