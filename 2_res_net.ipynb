{
 "cells": [
  {
   "cell_type": "code",
   "execution_count": 1,
   "id": "6396487d-a8b0-4039-a237-ebc95dd4c1e9",
   "metadata": {},
   "outputs": [],
   "source": [
    "import torch\n",
    "import torch.nn as nn\n",
    "import torch.optim as optim\n",
    "import torch.nn.functional as F\n",
    "from torchvision import datasets, transforms\n",
    "from torch.utils.data import DataLoader\n",
    "import torchvision.transforms as transforms\n",
    "from torchvision.datasets import ImageFolder\n",
    "from torch.utils.data import DataLoader"
   ]
  },
  {
   "cell_type": "code",
   "execution_count": 15,
   "id": "0724ec92-669c-4c47-97df-16a27471ebaa",
   "metadata": {},
   "outputs": [],
   "source": [
    "class Block(nn.Module):\n",
    "    def __init__(self, in_channels, out_channels, stride=1):\n",
    "        super(Block, self).__init__()\n",
    "        self.conv1 = nn.Conv2d(in_channels, out_channels, kernel_size=3, stride=stride, padding=1)\n",
    "        self.bn1 = nn.BatchNorm2d(out_channels)\n",
    "        self.conv2 = nn.Conv2d(out_channels, out_channels, kernel_size=3, stride=1, padding=1)\n",
    "        self.bn2 = nn.BatchNorm2d(out_channels)\n",
    "        self.relu = nn.ReLU(inplace=True)\n",
    "\n",
    "        self.identity_mapping = nn.Sequential()\n",
    "        if stride != 1 or in_channels != out_channels:\n",
    "            self.identity_mapping = nn.Sequential(\n",
    "                nn.Conv2d(in_channels, out_channels, kernel_size=1, stride=stride, bias=False),\n",
    "                nn.BatchNorm2d(out_channels)\n",
    "            )\n",
    "    \n",
    "    def forward(self, x):\n",
    "        identity = self.identity_mapping(x)\n",
    "\n",
    "        x = self.conv1(x)\n",
    "        x = self.bn1(x)\n",
    "        x = self.relu(x)\n",
    "        x = self.conv2(x)\n",
    "        x = self.bn2(x)\n",
    "        x = x + identity\n",
    "        x = self.relu(x)\n",
    "        return x"
   ]
  },
  {
   "cell_type": "code",
   "execution_count": 23,
   "id": "481aad21-8997-47bc-8976-efa88b767076",
   "metadata": {},
   "outputs": [],
   "source": [
    "class ResNet34(nn.Module):\n",
    "    def __init__(self, num_classes=200, blocks=[3, 4, 6, 3]):\n",
    "        super(ResNet34, self).__init__()\n",
    "        self.conv1 = nn.Sequential(\n",
    "            nn.Conv2d(3, 64, kernel_size=3, stride=1, padding=1, bias=False),\n",
    "            nn.BatchNorm2d(64),\n",
    "            nn.ReLU(inplace=True),\n",
    "            nn.MaxPool2d(kernel_size=3, stride=2, padding=1)\n",
    "        )\n",
    "        self.layer1 = self.make_layer(in_channels=64, out_channels=64, num_blocks=blocks[0], stride=1)\n",
    "        self.layer2 = self.make_layer(in_channels=64, out_channels=128, num_blocks=blocks[1], stride=2)\n",
    "        self.layer3 = self.make_layer(in_channels=128, out_channels=256, num_blocks=blocks[2], stride=2)\n",
    "        self.layer4 = self.make_layer(in_channels=256, out_channels=512, num_blocks=blocks[3], stride=2)\n",
    "        self.avg_pool = nn.AdaptiveAvgPool2d((1,1))\n",
    "        self.fc = nn.Linear(512, num_classes)\n",
    "\n",
    "    def make_layer(self, in_channels, out_channels, num_blocks, stride):\n",
    "        layers = []\n",
    "        layers.append(Block(in_channels, out_channels, stride))  # Downsampling block\n",
    "        for _ in range(1, num_blocks):\n",
    "            layers.append(Block(out_channels, out_channels))  # Identity blocks\n",
    "        return nn.Sequential(*layers)\n",
    "\n",
    "    def forward(self, x):\n",
    "        x = self.conv1(x)\n",
    "        x = self.layer1(x)\n",
    "        x = self.layer2(x)\n",
    "        x = self.layer3(x)\n",
    "        x = self.layer4(x)\n",
    "        x = self.avg_pool(x)\n",
    "        x = torch.flatten(x, 1)\n",
    "        x = self.fc(x)\n",
    "        \n",
    "        return x"
   ]
  },
  {
   "cell_type": "code",
   "execution_count": 13,
   "id": "f84d4f91-4758-452e-95d7-b74e7129c0b6",
   "metadata": {},
   "outputs": [],
   "source": [
    "from scripts.cv_utils import *"
   ]
  },
  {
   "cell_type": "code",
   "execution_count": 5,
   "id": "e3997453-2bae-493f-aadb-96b455e21e68",
   "metadata": {},
   "outputs": [
    {
     "name": "stdout",
     "output_type": "stream",
     "text": [
      "Files already downloaded and verified\n",
      "Files already downloaded and verified\n"
     ]
    }
   ],
   "source": [
    "transform = cifar_transform()\n",
    "train_loader, test_loader = download_cifar100(transform=transform)"
   ]
  },
  {
   "cell_type": "code",
   "execution_count": 51,
   "id": "cf674796-2c17-4e04-9e87-044d64eaa204",
   "metadata": {},
   "outputs": [
    {
     "name": "stdout",
     "output_type": "stream",
     "text": [
      "Current device for training: cuda\n",
      "####################\n",
      "Epoch 1/2 - Step 100: Loss 4.552824\n",
      "Epoch 1/2 - Step 200: Loss 4.356210\n",
      "Epoch 1/2 - Step 300: Loss 4.225033\n",
      "Epoch 1/2 - Step 400: Loss 4.122031\n",
      "Epoch 1/2 - Step 500: Loss 4.033115\n",
      "Epoch 1/2 - Step 600: Loss 3.950240\n",
      "Epoch 1/2 - Step 700: Loss 3.873485\n",
      "Final Eval - Epoch 1/2 - Train Loss: 3.8158\n",
      "####################\n",
      "Epoch 2/2 - Step 100: Loss 3.202990\n",
      "Epoch 2/2 - Step 200: Loss 3.161355\n",
      "Epoch 2/2 - Step 300: Loss 3.118629\n",
      "Epoch 2/2 - Step 400: Loss 3.072603\n",
      "Epoch 2/2 - Step 500: Loss 3.029414\n",
      "Epoch 2/2 - Step 600: Loss 2.993579\n",
      "Epoch 2/2 - Step 700: Loss 2.953631\n",
      "Final Eval - Epoch 2/2 - Train Loss: 2.9174\n",
      "####################\n"
     ]
    }
   ],
   "source": [
    "# hyperparameters\n",
    "n_epochs = 2\n",
    "save_checkpoint = 1\n",
    "num_classes = 100\n",
    "\n",
    "device = torch.device(\"cuda\" if torch.cuda.is_available() else \"cpu\")\n",
    "print(f\"Current device for training:\", device)\n",
    "print(\"#\" * 20)\n",
    "\n",
    "model = ResNet34(num_classes=num_classes).to(device)\n",
    "criterion = nn.CrossEntropyLoss()\n",
    "optimizer = torch.optim.Adam(model.parameters(), lr=0.001)\n",
    "scheduler = torch.optim.lr_scheduler.StepLR(optimizer, step_size=3, gamma=0.5)\n",
    "\n",
    "model.to(device)\n",
    "epoch_loss_history = []\n",
    "batch_loss_history = []\n",
    "\n",
    "for epoch in range(n_epochs):\n",
    "    model.train()\n",
    "    running_loss = 0.0\n",
    "    batch_loss = 0.0\n",
    "    \n",
    "    for idx, (image, label) in enumerate(train_loader):\n",
    "        image, label = image.to(device), label.to(device)\n",
    "        optimizer.zero_grad()\n",
    "        outputs = model(image)\n",
    "        loss = criterion(outputs, label)\n",
    "        loss.backward()\n",
    "        optimizer.step()\n",
    "\n",
    "        # loss update\n",
    "        running_loss += loss.item()\n",
    "    \n",
    "        if idx % 100 == 0 and idx != 0:\n",
    "            batch_loss = running_loss/idx\n",
    "            batch_loss_history.append(batch_loss)\n",
    "            print(f\"Epoch {epoch+1}/{n_epochs} - Step {idx}: Loss {batch_loss:4f}\")\n",
    "\n",
    "    # save checkpoint\n",
    "    if epoch % save_checkpoint == 0:\n",
    "        torch.save(model.state_dict(), f\"models/test/checkpoint_{(epoch) / save_checkpoint}.pth\")\n",
    "    \n",
    "    train_loss = running_loss / len(train_loader) \n",
    "    epoch_loss_history.append(train_loss)\n",
    "    batch_loss_history.append(batch_loss)\n",
    "    print(f\"Final Eval - Epoch {epoch+1}/{n_epochs} - Train Loss: {train_loss:.4f}\")\n",
    "    print(\"#\" * 20)\n",
    "\n",
    "torch.save(model.state_dict(), f\"models/test/checkpoint_final.pth\")"
   ]
  },
  {
   "cell_type": "code",
   "execution_count": 52,
   "id": "5546256e-ae61-451a-bf9e-04f9c558821a",
   "metadata": {},
   "outputs": [
    {
     "data": {
      "text/plain": [
       "(16,)"
      ]
     },
     "execution_count": 52,
     "metadata": {},
     "output_type": "execute_result"
    }
   ],
   "source": [
    "import numpy as np\n",
    "\n",
    "loss = np.array(batch_loss_history)\n",
    "loss.shape"
   ]
  },
  {
   "cell_type": "code",
   "execution_count": 53,
   "id": "a6495004-7c3a-4a21-844c-7e32a81c701a",
   "metadata": {},
   "outputs": [
    {
     "data": {
      "text/plain": [
       "[<matplotlib.lines.Line2D at 0x1f32bf6dd10>]"
      ]
     },
     "execution_count": 53,
     "metadata": {},
     "output_type": "execute_result"
    },
    {
     "data": {
      "image/png": "[encoded data removed]",
      "text/plain": [
       "<Figure size 640x480 with 1 Axes>"
      ]
     },
     "metadata": {},
     "output_type": "display_data"
    }
   ],
   "source": [
    "import matplotlib.pyplot as plt\n",
    "\n",
    "plt.plot(loss)"
   ]
  },
  {
   "cell_type": "code",
   "execution_count": 41,
   "id": "0c4be2dc-c108-4e1a-b189-d616f2d7dc7a",
   "metadata": {},
   "outputs": [
    {
     "data": {
      "text/plain": [
       "(782,)"
      ]
     },
     "execution_count": 41,
     "metadata": {},
     "output_type": "execute_result"
    }
   ],
   "source": [
    "np.array(batch_loss).shape"
   ]
  },
  {
   "cell_type": "code",
   "execution_count": 50,
   "id": "47edbd39-5488-49b7-af17-1ddb1c088bdc",
   "metadata": {},
   "outputs": [
    {
     "ename": "RuntimeError",
     "evalue": "Parent directory /models does not exist.",
     "output_type": "error",
     "traceback": [
      "\u001b[1;31m---------------------------------------------------------------------------\u001b[0m",
      "\u001b[1;31mRuntimeError\u001b[0m                              Traceback (most recent call last)",
      "Cell \u001b[1;32mIn[50], line 1\u001b[0m\n\u001b[1;32m----> 1\u001b[0m \u001b[43mtorch\u001b[49m\u001b[38;5;241;43m.\u001b[39;49m\u001b[43msave\u001b[49m\u001b[43m(\u001b[49m\u001b[43mmodel\u001b[49m\u001b[38;5;241;43m.\u001b[39;49m\u001b[43mstate_dict\u001b[49m\u001b[43m(\u001b[49m\u001b[43m)\u001b[49m\u001b[43m,\u001b[49m\u001b[43m \u001b[49m\u001b[38;5;124;43m\"\u001b[39;49m\u001b[38;5;124;43m/models/test.test.pth\u001b[39;49m\u001b[38;5;124;43m\"\u001b[39;49m\u001b[43m)\u001b[49m\n",
      "File \u001b[1;32m~\\AppData\\Local\\Programs\\Python\\Python311\\Lib\\site-packages\\torch\\serialization.py:628\u001b[0m, in \u001b[0;36msave\u001b[1;34m(obj, f, pickle_module, pickle_protocol, _use_new_zipfile_serialization, _disable_byteorder_record)\u001b[0m\n\u001b[0;32m    625\u001b[0m _check_save_filelike(f)\n\u001b[0;32m    627\u001b[0m \u001b[38;5;28;01mif\u001b[39;00m _use_new_zipfile_serialization:\n\u001b[1;32m--> 628\u001b[0m     \u001b[38;5;28;01mwith\u001b[39;00m \u001b[43m_open_zipfile_writer\u001b[49m\u001b[43m(\u001b[49m\u001b[43mf\u001b[49m\u001b[43m)\u001b[49m \u001b[38;5;28;01mas\u001b[39;00m opened_zipfile:\n\u001b[0;32m    629\u001b[0m         _save(obj, opened_zipfile, pickle_module, pickle_protocol, _disable_byteorder_record)\n\u001b[0;32m    630\u001b[0m         \u001b[38;5;28;01mreturn\u001b[39;00m\n",
      "File \u001b[1;32m~\\AppData\\Local\\Programs\\Python\\Python311\\Lib\\site-packages\\torch\\serialization.py:502\u001b[0m, in \u001b[0;36m_open_zipfile_writer\u001b[1;34m(name_or_buffer)\u001b[0m\n\u001b[0;32m    500\u001b[0m \u001b[38;5;28;01melse\u001b[39;00m:\n\u001b[0;32m    501\u001b[0m     container \u001b[38;5;241m=\u001b[39m _open_zipfile_writer_buffer\n\u001b[1;32m--> 502\u001b[0m \u001b[38;5;28;01mreturn\u001b[39;00m \u001b[43mcontainer\u001b[49m\u001b[43m(\u001b[49m\u001b[43mname_or_buffer\u001b[49m\u001b[43m)\u001b[49m\n",
      "File \u001b[1;32m~\\AppData\\Local\\Programs\\Python\\Python311\\Lib\\site-packages\\torch\\serialization.py:473\u001b[0m, in \u001b[0;36m_open_zipfile_writer_file.__init__\u001b[1;34m(self, name)\u001b[0m\n\u001b[0;32m    471\u001b[0m     \u001b[38;5;28msuper\u001b[39m()\u001b[38;5;241m.\u001b[39m\u001b[38;5;21m__init__\u001b[39m(torch\u001b[38;5;241m.\u001b[39m_C\u001b[38;5;241m.\u001b[39mPyTorchFileWriter(\u001b[38;5;28mself\u001b[39m\u001b[38;5;241m.\u001b[39mfile_stream))\n\u001b[0;32m    472\u001b[0m \u001b[38;5;28;01melse\u001b[39;00m:\n\u001b[1;32m--> 473\u001b[0m     \u001b[38;5;28msuper\u001b[39m()\u001b[38;5;241m.\u001b[39m\u001b[38;5;21m__init__\u001b[39m(\u001b[43mtorch\u001b[49m\u001b[38;5;241;43m.\u001b[39;49m\u001b[43m_C\u001b[49m\u001b[38;5;241;43m.\u001b[39;49m\u001b[43mPyTorchFileWriter\u001b[49m\u001b[43m(\u001b[49m\u001b[38;5;28;43mself\u001b[39;49m\u001b[38;5;241;43m.\u001b[39;49m\u001b[43mname\u001b[49m\u001b[43m)\u001b[49m)\n",
      "\u001b[1;31mRuntimeError\u001b[0m: Parent directory /models does not exist."
     ]
    }
   ],
   "source": [
    "torch.save(model.state_dict(), \"/models/test.test.pth\")"
   ]
  },
  {
   "cell_type": "code",
   "execution_count": 54,
   "id": "5a7607b3-b3f2-498d-a584-8adfe28fda6a",
   "metadata": {},
   "outputs": [
    {
     "data": {
      "text/plain": [
       "[3.815817240254044, 2.9174326828983435]"
      ]
     },
     "execution_count": 54,
     "metadata": {},
     "output_type": "execute_result"
    }
   ],
   "source": [
    "epoch_loss_history"
   ]
  },
  {
   "cell_type": "code",
   "execution_count": null,
   "id": "42a3c789-a106-48a5-a651-0b2034eaeb6d",
   "metadata": {},
   "outputs": [],
   "source": []
  }
 ],
 "metadata": {
  "kernelspec": {
   "display_name": "Python 3 (ipykernel)",
   "language": "python",
   "name": "python3"
  },
  "language_info": {
   "codemirror_mode": {
    "name": "ipython",
    "version": 3
   },
   "file_extension": ".py",
   "mimetype": "text/x-python",
   "name": "python",
   "nbconvert_exporter": "python",
   "pygments_lexer": "ipython3",
   "version": "3.11.7"
  }
 },
 "nbformat": 4,
 "nbformat_minor": 5
}
